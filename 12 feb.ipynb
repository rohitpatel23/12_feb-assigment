{
 "cells": [
  {
   "cell_type": "code",
   "execution_count": 1,
   "id": "b0dfc1c4-2111-4511-934f-e9a24abf6e64",
   "metadata": {},
   "outputs": [],
   "source": [
    "#Q1. What is an  exception in python ? write the difference between exception and sytex error ."
   ]
  },
  {
   "cell_type": "code",
   "execution_count": 1,
   "id": "1233f161-b23f-45bf-8793-b4a77b9d8ca2",
   "metadata": {},
   "outputs": [],
   "source": [
    "#When in the runtime an error that occurs after passing the syntax test is called exception \n",
    "\n",
    "#Difference between syntex error or exception :\n",
    "#when the proper syntex are not followed by code then syntex error are occur\n",
    "##When in the runtime an error that occurs after passing the syntax test is called exception \n"
   ]
  },
  {
   "cell_type": "code",
   "execution_count": 2,
   "id": "4c0f5644-c699-40b3-a264-84e839da1e5b",
   "metadata": {},
   "outputs": [],
   "source": [
    "#Q2. what happen when a exception is not handlled ? explain with example."
   ]
  },
  {
   "cell_type": "code",
   "execution_count": null,
   "id": "5b0f86a7-5f9e-424b-ab0d-f5af926776b8",
   "metadata": {},
   "outputs": [],
   "source": [
    "#if exception is not handlled the exception is re-raised after the finally block has been executed."
   ]
  },
  {
   "cell_type": "code",
   "execution_count": 3,
   "id": "733b4588-9900-4011-9a47-557cf5615d94",
   "metadata": {},
   "outputs": [],
   "source": [
    "#which python statement are used to catch and handle exception ? Explain with an example ."
   ]
  },
  {
   "cell_type": "code",
   "execution_count": 7,
   "id": "7bee7d14-7749-41cb-b5ee-fbcfad4ebf3d",
   "metadata": {},
   "outputs": [],
   "source": [
    "#Try and except statements are used to catch and handle exceptions in Python.\n",
    "try:\n",
    "    f=open(\"test.txt\" ,'w')\n",
    "    f.write(\"write into my file\")\n",
    "except Exception as e :\n",
    "    print(\"this is my except block\" ,e)\n",
    "    f.close()"
   ]
  },
  {
   "cell_type": "code",
   "execution_count": 9,
   "id": "8cbb5f45-51a6-4d18-be67-090f8d566267",
   "metadata": {},
   "outputs": [],
   "source": [
    "#Q4. Explain with example\n",
    "#try and else\n",
    "#finally \n",
    "#raise \n"
   ]
  },
  {
   "cell_type": "code",
   "execution_count": 17,
   "id": "1f410f27-97bf-408c-982f-37e86e1d1c71",
   "metadata": {},
   "outputs": [
    {
     "name": "stdout",
     "output_type": "stream",
     "text": [
      "finally will excute itself in any situation\n",
      "this is my except block not writable\n"
     ]
    }
   ],
   "source": [
    "#Try: This block will test the excepted error to occur\n",
    "#Except:  Here you can handle the error\n",
    "#Else: If there is no exception then this block will be executed\n",
    "#Finally: Finally block always gets executed either exception is generated or not\n",
    "#raise : raise keybord is used to raise the exception or error . it stop the control flow of a program \n",
    "#example :\n",
    "try :\n",
    "    f= open(\"test5.txt\" , 'w')\n",
    "    f.write(\"write something\")\n",
    "    f.close()\n",
    "finally :\n",
    "    print(\"finally will excute itself in any situation\")\n",
    "    \n",
    "try:\n",
    "    f=open(\"test1.txt\" ,'r')\n",
    "    f.write(\"write into my file\")\n",
    "except Exception as e :\n",
    "    print(\"this is my except block\" ,e)\n",
    "else:\n",
    "    f.close()\n",
    "    print(\"this will be excuted once your try will excute without error\")  \n",
    "   "
   ]
  },
  {
   "cell_type": "code",
   "execution_count": 18,
   "id": "d13f71ec-fc68-414a-a99b-d0f523931742",
   "metadata": {},
   "outputs": [],
   "source": [
    "#what are custom exception in python ? what do we need custom exception ? Explain with an example ."
   ]
  },
  {
   "cell_type": "code",
   "execution_count": 2,
   "id": "a4de061e-48bb-4572-85b5-1064a67f1e04",
   "metadata": {},
   "outputs": [
    {
     "name": "stdin",
     "output_type": "stream",
     "text": [
      "enter the value between 5 and 9 4\n"
     ]
    }
   ],
   "source": [
    "#In python we can define custom exception by creating a new class that is derived from the build in exception\n",
    "#In python we can raise custom error by using the raise keyword\n",
    "\n",
    "a = int(input(\"enter the value between 5 and 9\"))\n",
    "\n",
    "if (a<5 and a>9):\n",
    "    raise ValueError(\"value should be between 5 or 9\")"
   ]
  },
  {
   "cell_type": "code",
   "execution_count": 3,
   "id": "ed05ac01-f18e-47fe-9f61-1f68fd299e7a",
   "metadata": {},
   "outputs": [],
   "source": [
    "#Q6. create a custom exception  class . use this class to handle this ."
   ]
  },
  {
   "cell_type": "code",
   "execution_count": 1,
   "id": "655fe06f-1c05-4f56-ad69-e16bd66a3a34",
   "metadata": {},
   "outputs": [
    {
     "name": "stdout",
     "output_type": "stream",
     "text": [
      "This is my custom exception\n"
     ]
    }
   ],
   "source": [
    "class CustomException(Exception):\n",
    "    \"\"\" my custom exception class \"\"\"\n",
    "\n",
    "\n",
    "try:\n",
    "    raise CustomException('This is my custom exception')\n",
    "except CustomException as ex:\n",
    "    print(ex)"
   ]
  },
  {
   "cell_type": "code",
   "execution_count": null,
   "id": "55cba508-8096-41bb-b9ec-98fddcfd011b",
   "metadata": {},
   "outputs": [],
   "source": []
  }
 ],
 "metadata": {
  "kernelspec": {
   "display_name": "Python 3 (ipykernel)",
   "language": "python",
   "name": "python3"
  },
  "language_info": {
   "codemirror_mode": {
    "name": "ipython",
    "version": 3
   },
   "file_extension": ".py",
   "mimetype": "text/x-python",
   "name": "python",
   "nbconvert_exporter": "python",
   "pygments_lexer": "ipython3",
   "version": "3.10.8"
  }
 },
 "nbformat": 4,
 "nbformat_minor": 5
}
